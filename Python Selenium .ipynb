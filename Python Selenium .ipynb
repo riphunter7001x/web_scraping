{
 "cells": [
  {
   "cell_type": "code",
   "execution_count": 11,
   "id": "e79cb292",
   "metadata": {},
   "outputs": [
    {
     "name": "stdout",
     "output_type": "stream",
     "text": [
      "Requirement already satisfied: selenium==4.0.0.b4 in c:\\users\\aditya\\anaconda3\\lib\\site-packages (4.0.0b4)\n",
      "Requirement already satisfied: trio-websocket~=0.9 in c:\\users\\aditya\\anaconda3\\lib\\site-packages (from selenium==4.0.0.b4) (0.10.2)\n",
      "Requirement already satisfied: trio~=0.17 in c:\\users\\aditya\\anaconda3\\lib\\site-packages (from selenium==4.0.0.b4) (0.22.0)\n",
      "Requirement already satisfied: urllib3[secure]~=1.26 in c:\\users\\aditya\\anaconda3\\lib\\site-packages (from selenium==4.0.0.b4) (1.26.9)\n",
      "Requirement already satisfied: async-generator>=1.9 in c:\\users\\aditya\\anaconda3\\lib\\site-packages (from trio~=0.17->selenium==4.0.0.b4) (1.10)\n",
      "Requirement already satisfied: outcome in c:\\users\\aditya\\anaconda3\\lib\\site-packages (from trio~=0.17->selenium==4.0.0.b4) (1.2.0)\n",
      "Requirement already satisfied: sortedcontainers in c:\\users\\aditya\\anaconda3\\lib\\site-packages (from trio~=0.17->selenium==4.0.0.b4) (2.4.0)\n",
      "Requirement already satisfied: cffi>=1.14 in c:\\users\\aditya\\anaconda3\\lib\\site-packages (from trio~=0.17->selenium==4.0.0.b4) (1.15.0)\n",
      "Requirement already satisfied: exceptiongroup>=1.0.0rc9 in c:\\users\\aditya\\anaconda3\\lib\\site-packages (from trio~=0.17->selenium==4.0.0.b4) (1.1.1)\n",
      "Requirement already satisfied: attrs>=19.2.0 in c:\\users\\aditya\\anaconda3\\lib\\site-packages (from trio~=0.17->selenium==4.0.0.b4) (21.4.0)\n",
      "Requirement already satisfied: idna in c:\\users\\aditya\\anaconda3\\lib\\site-packages (from trio~=0.17->selenium==4.0.0.b4) (3.3)\n",
      "Requirement already satisfied: sniffio in c:\\users\\aditya\\anaconda3\\lib\\site-packages (from trio~=0.17->selenium==4.0.0.b4) (1.2.0)\n",
      "Requirement already satisfied: pycparser in c:\\users\\aditya\\anaconda3\\lib\\site-packages (from cffi>=1.14->trio~=0.17->selenium==4.0.0.b4) (2.21)\n",
      "Requirement already satisfied: wsproto>=0.14 in c:\\users\\aditya\\anaconda3\\lib\\site-packages (from trio-websocket~=0.9->selenium==4.0.0.b4) (1.2.0)\n",
      "Requirement already satisfied: pyOpenSSL>=0.14 in c:\\users\\aditya\\anaconda3\\lib\\site-packages (from urllib3[secure]~=1.26->selenium==4.0.0.b4) (21.0.0)\n",
      "Requirement already satisfied: certifi in c:\\users\\aditya\\anaconda3\\lib\\site-packages (from urllib3[secure]~=1.26->selenium==4.0.0.b4) (2021.10.8)\n",
      "Requirement already satisfied: cryptography>=1.3.4 in c:\\users\\aditya\\anaconda3\\lib\\site-packages (from urllib3[secure]~=1.26->selenium==4.0.0.b4) (3.4.8)\n",
      "Requirement already satisfied: six>=1.5.2 in c:\\users\\aditya\\anaconda3\\lib\\site-packages (from pyOpenSSL>=0.14->urllib3[secure]~=1.26->selenium==4.0.0.b4) (1.16.0)\n",
      "Requirement already satisfied: h11<1,>=0.9.0 in c:\\users\\aditya\\anaconda3\\lib\\site-packages (from wsproto>=0.14->trio-websocket~=0.9->selenium==4.0.0.b4) (0.14.0)\n"
     ]
    }
   ],
   "source": [
    "!pip install selenium==4.0.0.b4"
   ]
  },
  {
   "cell_type": "code",
   "execution_count": 12,
   "id": "d8b8d79e",
   "metadata": {},
   "outputs": [],
   "source": [
    "from selenium import webdriver\n",
    "from selenium.webdriver.chrome.service import Service"
   ]
  },
  {
   "cell_type": "code",
   "execution_count": 13,
   "id": "6c9c1630",
   "metadata": {},
   "outputs": [],
   "source": [
    "s = Service(\"chromedriver.exe\")"
   ]
  },
  {
   "cell_type": "code",
   "execution_count": 15,
   "id": "31acd9dd",
   "metadata": {},
   "outputs": [],
   "source": [
    "driver = webdriver.Chrome(service=s)"
   ]
  },
  {
   "cell_type": "code",
   "execution_count": 16,
   "id": "642d8621",
   "metadata": {},
   "outputs": [],
   "source": [
    "driver.get(\"https://www.landrover.in/vehicles/defender/index.html\")"
   ]
  },
  {
   "cell_type": "code",
   "execution_count": 18,
   "id": "d812b73c",
   "metadata": {},
   "outputs": [
    {
     "name": "stderr",
     "output_type": "stream",
     "text": [
      "C:\\Users\\Aditya\\anaconda3\\lib\\site-packages\\selenium\\webdriver\\remote\\webdriver.py:483: UserWarning: find_element_by_* commands are deprecated. Please use find_element() instead\n",
      "  warnings.warn(\"find_element_by_* commands are deprecated. Please use find_element() instead\")\n"
     ]
    }
   ],
   "source": [
    "a = driver.find_element_by_xpath(\"/html/body/div[1]/main/div/div/div/div[2]/div/div/div[1]/div/div[1]/div/div[2]/div/div/div[1]/picture/img\")"
   ]
  },
  {
   "cell_type": "code",
   "execution_count": 19,
   "id": "b1d1a90a",
   "metadata": {},
   "outputs": [
    {
     "data": {
      "text/plain": [
       "<selenium.webdriver.remote.webelement.WebElement (session=\"0a8c5f4edee518ffce5fe01b888908d3\", element=\"257c9f52-d663-430f-94b2-85f730708e46\")>"
      ]
     },
     "execution_count": 19,
     "metadata": {},
     "output_type": "execute_result"
    }
   ],
   "source": [
    "a"
   ]
  },
  {
   "cell_type": "code",
   "execution_count": null,
   "id": "defcae22",
   "metadata": {},
   "outputs": [],
   "source": []
  }
 ],
 "metadata": {
  "kernelspec": {
   "display_name": "Python 3 (ipykernel)",
   "language": "python",
   "name": "python3"
  },
  "language_info": {
   "codemirror_mode": {
    "name": "ipython",
    "version": 3
   },
   "file_extension": ".py",
   "mimetype": "text/x-python",
   "name": "python",
   "nbconvert_exporter": "python",
   "pygments_lexer": "ipython3",
   "version": "3.9.12"
  },
  "varInspector": {
   "cols": {
    "lenName": 16,
    "lenType": 16,
    "lenVar": 40
   },
   "kernels_config": {
    "python": {
     "delete_cmd_postfix": "",
     "delete_cmd_prefix": "del ",
     "library": "var_list.py",
     "varRefreshCmd": "print(var_dic_list())"
    },
    "r": {
     "delete_cmd_postfix": ") ",
     "delete_cmd_prefix": "rm(",
     "library": "var_list.r",
     "varRefreshCmd": "cat(var_dic_list()) "
    }
   },
   "types_to_exclude": [
    "module",
    "function",
    "builtin_function_or_method",
    "instance",
    "_Feature"
   ],
   "window_display": false
  }
 },
 "nbformat": 4,
 "nbformat_minor": 5
}
