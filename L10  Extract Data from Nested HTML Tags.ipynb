{
 "cells": [
  {
   "cell_type": "code",
   "execution_count": 1,
   "id": "1d9178c0",
   "metadata": {},
   "outputs": [],
   "source": [
    "# importing library\n",
    "import requests\n",
    "from bs4 import BeautifulSoup"
   ]
  },
  {
   "cell_type": "code",
   "execution_count": 4,
   "id": "a014b572",
   "metadata": {},
   "outputs": [
    {
     "data": {
      "text/plain": [
       "200"
      ]
     },
     "execution_count": 4,
     "metadata": {},
     "output_type": "execute_result"
    }
   ],
   "source": [
    "url = \"https://webscraper.io/test-sites/e-commerce/allinone/phones\"\n",
    "r = requests.get(url)\n",
    "r.status_code"
   ]
  },
  {
   "cell_type": "code",
   "execution_count": 8,
   "id": "d4b44480",
   "metadata": {},
   "outputs": [],
   "source": [
    "soup = BeautifulSoup(r.text,\"lxml\")\n",
    "\n",
    "# now go for nested tags\n",
    "\n",
    "boxes = soup.find_all(\"div\",class_=\"col-sm-4 col-lg-4 col-md-4\") "
   ]
  },
  {
   "cell_type": "code",
   "execution_count": 11,
   "id": "b088ecee",
   "metadata": {},
   "outputs": [
    {
     "data": {
      "text/plain": [
       "'\\n\\n\\n\\n$109.99\\n\\nNokia X\\n\\nAndoid, Jolla dualboot\\n\\n\\n4 reviews\\n\\n\\n\\n\\n\\n\\n\\n\\n'"
      ]
     },
     "execution_count": 11,
     "metadata": {},
     "output_type": "execute_result"
    }
   ],
   "source": [
    "# if we want 2 nd number box data \n",
    "box = boxes[1]\n",
    "box.text\n"
   ]
  },
  {
   "cell_type": "code",
   "execution_count": 16,
   "id": "0c928c88",
   "metadata": {},
   "outputs": [
    {
     "name": "stdout",
     "output_type": "stream",
     "text": [
      "\n",
      "\n",
      "Home\n",
      "\n",
      "\n",
      "\n",
      "\t\t\t\t\tPhones\n",
      "\t\t\t\t\t\n",
      "\n",
      "\n",
      "\n",
      "\n",
      "\t\t\t\t\t\t\tTouch\n",
      "\t\t\t\t\t\t\n",
      "\n",
      "\n",
      "\n",
      "\n",
      "\n",
      "\t\t\t\t\tComputers\n",
      "\t\t\t\t\t\n",
      "\n",
      "\n",
      "\n"
     ]
    }
   ],
   "source": [
    "# lets dig nav bar\n",
    "navbar = soup.find_all(\"ul\" ,class_=\"nav\", id=\"side-menu\")\n",
    "c_nav = navbar[0]\n",
    "print(c_nav.text)"
   ]
  },
  {
   "cell_type": "code",
   "execution_count": null,
   "id": "1d83e1ff",
   "metadata": {},
   "outputs": [],
   "source": []
  }
 ],
 "metadata": {
  "kernelspec": {
   "display_name": "Python 3 (ipykernel)",
   "language": "python",
   "name": "python3"
  },
  "language_info": {
   "codemirror_mode": {
    "name": "ipython",
    "version": 3
   },
   "file_extension": ".py",
   "mimetype": "text/x-python",
   "name": "python",
   "nbconvert_exporter": "python",
   "pygments_lexer": "ipython3",
   "version": "3.9.12"
  },
  "varInspector": {
   "cols": {
    "lenName": 16,
    "lenType": 16,
    "lenVar": 40
   },
   "kernels_config": {
    "python": {
     "delete_cmd_postfix": "",
     "delete_cmd_prefix": "del ",
     "library": "var_list.py",
     "varRefreshCmd": "print(var_dic_list())"
    },
    "r": {
     "delete_cmd_postfix": ") ",
     "delete_cmd_prefix": "rm(",
     "library": "var_list.r",
     "varRefreshCmd": "cat(var_dic_list()) "
    }
   },
   "types_to_exclude": [
    "module",
    "function",
    "builtin_function_or_method",
    "instance",
    "_Feature"
   ],
   "window_display": false
  }
 },
 "nbformat": 4,
 "nbformat_minor": 5
}
