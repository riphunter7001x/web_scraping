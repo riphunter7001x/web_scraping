{
 "cells": [
  {
   "cell_type": "code",
   "execution_count": 1,
   "id": "5b965b30",
   "metadata": {},
   "outputs": [],
   "source": [
    "# importing library\n",
    "import requests\n",
    "from bs4 import BeautifulSoup"
   ]
  },
  {
   "cell_type": "code",
   "execution_count": 4,
   "id": "3650647b",
   "metadata": {},
   "outputs": [
    {
     "data": {
      "text/plain": [
       "200"
      ]
     },
     "execution_count": 4,
     "metadata": {},
     "output_type": "execute_result"
    }
   ],
   "source": [
    "url = \"https://webscraper.io/test-sites/e-commerce/allinone/computers/laptops\"\n",
    "r = requests.get(url)\n",
    "r.status_code"
   ]
  },
  {
   "cell_type": "code",
   "execution_count": 8,
   "id": "eb14578d",
   "metadata": {},
   "outputs": [
    {
     "name": "stdout",
     "output_type": "stream",
     "text": [
      "<p>Web Scraper</p>\n",
      "Web Scraper\n"
     ]
    }
   ],
   "source": [
    "suop = BeautifulSoup(r.text,\"lxml\")\n",
    "tag = suop.header.p\n",
    "print(tag)\n",
    "# get string without tag\n",
    "print(tag.string)"
   ]
  },
  {
   "cell_type": "code",
   "execution_count": 11,
   "id": "b2e81210",
   "metadata": {},
   "outputs": [
    {
     "name": "stdout",
     "output_type": "stream",
     "text": [
      "<span class=\"sr-only\">Toggle navigation</span>\n",
      "Toggle navigation\n"
     ]
    }
   ],
   "source": [
    "# lets check in header\n",
    "head = suop.header.div.a.button.span\n",
    "print(head)\n",
    "print(head.string)"
   ]
  },
  {
   "cell_type": "code",
   "execution_count": null,
   "id": "80384d77",
   "metadata": {},
   "outputs": [],
   "source": []
  }
 ],
 "metadata": {
  "kernelspec": {
   "display_name": "Python 3 (ipykernel)",
   "language": "python",
   "name": "python3"
  },
  "language_info": {
   "codemirror_mode": {
    "name": "ipython",
    "version": 3
   },
   "file_extension": ".py",
   "mimetype": "text/x-python",
   "name": "python",
   "nbconvert_exporter": "python",
   "pygments_lexer": "ipython3",
   "version": "3.9.12"
  },
  "varInspector": {
   "cols": {
    "lenName": 16,
    "lenType": 16,
    "lenVar": 40
   },
   "kernels_config": {
    "python": {
     "delete_cmd_postfix": "",
     "delete_cmd_prefix": "del ",
     "library": "var_list.py",
     "varRefreshCmd": "print(var_dic_list())"
    },
    "r": {
     "delete_cmd_postfix": ") ",
     "delete_cmd_prefix": "rm(",
     "library": "var_list.r",
     "varRefreshCmd": "cat(var_dic_list()) "
    }
   },
   "types_to_exclude": [
    "module",
    "function",
    "builtin_function_or_method",
    "instance",
    "_Feature"
   ],
   "window_display": false
  }
 },
 "nbformat": 4,
 "nbformat_minor": 5
}
