{
 "cells": [
  {
   "cell_type": "code",
   "execution_count": 1,
   "id": "01574830",
   "metadata": {},
   "outputs": [],
   "source": [
    "# IMPORTING LIBRARY\n",
    "import numpy as np\n",
    "import requests\n",
    "from bs4 import BeautifulSoup"
   ]
  },
  {
   "cell_type": "code",
   "execution_count": 12,
   "id": "a806491b",
   "metadata": {},
   "outputs": [
    {
     "data": {
      "text/plain": [
       "200"
      ]
     },
     "execution_count": 12,
     "metadata": {},
     "output_type": "execute_result"
    }
   ],
   "source": [
    "# url = \"https://www.flipkart.com/search?q=smartphone+under+50000&otracker=search&otracker1=search&marketplace=FLIPKART&as-show=on&as=off&page=1\"\n",
    "# r = requests.get(url)\n",
    "# r.status_code"
   ]
  },
  {
   "cell_type": "code",
   "execution_count": 65,
   "id": "99ebfabe",
   "metadata": {},
   "outputs": [
    {
     "name": "stdout",
     "output_type": "stream",
     "text": [
      "200\n",
      "200\n",
      "200\n",
      "200\n",
      "200\n",
      "200\n",
      "200\n",
      "200\n"
     ]
    },
    {
     "data": {
      "application/javascript": [
       "\n",
       "        if (window._pyforest_update_imports_cell) { window._pyforest_update_imports_cell('import pandas as pd'); }\n",
       "    "
      ],
      "text/plain": [
       "<IPython.core.display.Javascript object>"
      ]
     },
     "metadata": {},
     "output_type": "display_data"
    }
   ],
   "source": [
    "# lets make empty list for our dataframe\n",
    "names = []\n",
    "prices = []\n",
    "desc = []\n",
    "ratings = []\n",
    "# loop for multipal webpages\n",
    "for i in range(2,10):\n",
    "    url = \"https://www.flipkart.com/search?q=smartphone+under+50000&otracker=search&otracker1=search&marketplace=FLIPKART&as-show=on&as=off&p%5B%5D=facets.availability%255B%255D%3DExclude%2BOut%2Bof%2BStock&p%5B%5D=facets.offer_type%255B%255D%3DSpecial%2BPrice&page=\"+str(i)\n",
    "    r = requests.get(url)\n",
    "    print(r.status_code)\n",
    "    # make soup\n",
    "    soup = BeautifulSoup(r.text,\"lxml\")\n",
    "    # print(soup)\n",
    "    # gettinng specific box\n",
    "    # we use box becoz it get trouble while it get add in  data frame \n",
    "    box = soup.find(\"div\",class_ = \"_1YokD2 _3Mn1Gg\")\n",
    "    # print(box)\n",
    "    name = box.find_all(\"div\",class_=\"_4rR01T\")\n",
    "    for i in name:\n",
    "        names.append(i.text)\n",
    "#     print(len(names))\n",
    "    # for prices\n",
    "    price = box.find_all(\"div\",class_=\"_30jeq3 _1_WHN1\")\n",
    "    for i in price:\n",
    "        prices.append(i.text)\n",
    "#     print(len(prices))\n",
    "    dec = box.find_all(\"ul\",class_=\"_1xgFaf\")\n",
    "    for i in dec:\n",
    "        desc.append(i.text)\n",
    "#     print(len(desc))\n",
    "    rate = box.find_all(\"div\",class_=\"_3LWZlK\")\n",
    "    for i in rate:\n",
    "        ratings.append(i.text)\n",
    "        \n",
    "#     print(len(ratings))\n",
    "# make data frame for it\n",
    "df = pd.DataFrame({\"product_name\":names,\"price\":prices,\"description\":desc,\"rate\":ratings})"
   ]
  },
  {
   "cell_type": "code",
   "execution_count": 61,
   "id": "77694f07",
   "metadata": {},
   "outputs": [],
   "source": [
    "df.to_csv(\"mobiles.csv\")"
   ]
  },
  {
   "cell_type": "code",
   "execution_count": 64,
   "id": "d34f44b8",
   "metadata": {},
   "outputs": [
    {
     "data": {
      "text/html": [
       "<div>\n",
       "<style scoped>\n",
       "    .dataframe tbody tr th:only-of-type {\n",
       "        vertical-align: middle;\n",
       "    }\n",
       "\n",
       "    .dataframe tbody tr th {\n",
       "        vertical-align: top;\n",
       "    }\n",
       "\n",
       "    .dataframe thead th {\n",
       "        text-align: right;\n",
       "    }\n",
       "</style>\n",
       "<table border=\"1\" class=\"dataframe\">\n",
       "  <thead>\n",
       "    <tr style=\"text-align: right;\">\n",
       "      <th></th>\n",
       "      <th>product_name</th>\n",
       "      <th>price</th>\n",
       "      <th>description</th>\n",
       "      <th>rate</th>\n",
       "    </tr>\n",
       "  </thead>\n",
       "  <tbody>\n",
       "    <tr>\n",
       "      <th>0</th>\n",
       "      <td>realme GT 2 Pro (Steel Black, 256 GB)</td>\n",
       "      <td>₹43,999</td>\n",
       "      <td>12 GB RAM | 256 GB ROM17.02 cm (6.7 inch) Quad...</td>\n",
       "      <td>4.4</td>\n",
       "    </tr>\n",
       "    <tr>\n",
       "      <th>1</th>\n",
       "      <td>realme GT 2 Pro (Paper White, 256 GB)</td>\n",
       "      <td>₹43,999</td>\n",
       "      <td>12 GB RAM | 256 GB ROM17.02 cm (6.7 inch) Quad...</td>\n",
       "      <td>4.4</td>\n",
       "    </tr>\n",
       "    <tr>\n",
       "      <th>2</th>\n",
       "      <td>SAMSUNG Galaxy A54 5G (Awesome Violet, 256 GB)</td>\n",
       "      <td>₹40,999</td>\n",
       "      <td>8 GB RAM | 256 GB ROM | Expandable Upto 1 TB16...</td>\n",
       "      <td>4.3</td>\n",
       "    </tr>\n",
       "    <tr>\n",
       "      <th>3</th>\n",
       "      <td>SAMSUNG Galaxy A73 5G (Awesome Gray, 128 GB)</td>\n",
       "      <td>₹41,999</td>\n",
       "      <td>8 GB RAM | 128 GB ROM | Expandable Upto 1 TB17...</td>\n",
       "      <td>4.2</td>\n",
       "    </tr>\n",
       "    <tr>\n",
       "      <th>4</th>\n",
       "      <td>SAMSUNG Galaxy A54 5G (Awesome Lime, 256 GB)</td>\n",
       "      <td>₹40,999</td>\n",
       "      <td>8 GB RAM | 256 GB ROM | Expandable Upto 1 TB16...</td>\n",
       "      <td>4.3</td>\n",
       "    </tr>\n",
       "    <tr>\n",
       "      <th>5</th>\n",
       "      <td>SAMSUNG Galaxy A73 5G (Awesome Mint, 128 GB)</td>\n",
       "      <td>₹41,999</td>\n",
       "      <td>8 GB RAM | 128 GB ROM | Expandable Upto 1 TB17...</td>\n",
       "      <td>4.2</td>\n",
       "    </tr>\n",
       "    <tr>\n",
       "      <th>6</th>\n",
       "      <td>SAMSUNG Galaxy A73 5G (Awesome White, 128 GB)</td>\n",
       "      <td>₹41,999</td>\n",
       "      <td>8 GB RAM | 128 GB ROM | Expandable Upto 1 TB17...</td>\n",
       "      <td>4.2</td>\n",
       "    </tr>\n",
       "    <tr>\n",
       "      <th>7</th>\n",
       "      <td>SAMSUNG Galaxy A73 5G (Awesome Mint, 256 GB)</td>\n",
       "      <td>₹44,999</td>\n",
       "      <td>8 GB RAM | 256 GB ROM | Expandable Upto 1 TB17...</td>\n",
       "      <td>4.2</td>\n",
       "    </tr>\n",
       "    <tr>\n",
       "      <th>8</th>\n",
       "      <td>vivo V23 Pro 5G (Sunshine Gold, 256 GB)</td>\n",
       "      <td>₹43,990</td>\n",
       "      <td>12 GB RAM | 256 GB ROM16.66 cm (6.56 inch) Ful...</td>\n",
       "      <td>4.2</td>\n",
       "    </tr>\n",
       "    <tr>\n",
       "      <th>9</th>\n",
       "      <td>realme GT 2 Pro (Paper Green, 256 GB)</td>\n",
       "      <td>₹43,999</td>\n",
       "      <td>12 GB RAM | 256 GB ROM17.02 cm (6.7 inch) Quad...</td>\n",
       "      <td>4.4</td>\n",
       "    </tr>\n",
       "  </tbody>\n",
       "</table>\n",
       "</div>"
      ],
      "text/plain": [
       "                                     product_name    price                                        description rate\n",
       "0           realme GT 2 Pro (Steel Black, 256 GB)  ₹43,999  12 GB RAM | 256 GB ROM17.02 cm (6.7 inch) Quad...  4.4\n",
       "1           realme GT 2 Pro (Paper White, 256 GB)  ₹43,999  12 GB RAM | 256 GB ROM17.02 cm (6.7 inch) Quad...  4.4\n",
       "2  SAMSUNG Galaxy A54 5G (Awesome Violet, 256 GB)  ₹40,999  8 GB RAM | 256 GB ROM | Expandable Upto 1 TB16...  4.3\n",
       "3    SAMSUNG Galaxy A73 5G (Awesome Gray, 128 GB)  ₹41,999  8 GB RAM | 128 GB ROM | Expandable Upto 1 TB17...  4.2\n",
       "4    SAMSUNG Galaxy A54 5G (Awesome Lime, 256 GB)  ₹40,999  8 GB RAM | 256 GB ROM | Expandable Upto 1 TB16...  4.3\n",
       "5    SAMSUNG Galaxy A73 5G (Awesome Mint, 128 GB)  ₹41,999  8 GB RAM | 128 GB ROM | Expandable Upto 1 TB17...  4.2\n",
       "6   SAMSUNG Galaxy A73 5G (Awesome White, 128 GB)  ₹41,999  8 GB RAM | 128 GB ROM | Expandable Upto 1 TB17...  4.2\n",
       "7    SAMSUNG Galaxy A73 5G (Awesome Mint, 256 GB)  ₹44,999  8 GB RAM | 256 GB ROM | Expandable Upto 1 TB17...  4.2\n",
       "8         vivo V23 Pro 5G (Sunshine Gold, 256 GB)  ₹43,990  12 GB RAM | 256 GB ROM16.66 cm (6.56 inch) Ful...  4.2\n",
       "9           realme GT 2 Pro (Paper Green, 256 GB)  ₹43,999  12 GB RAM | 256 GB ROM17.02 cm (6.7 inch) Quad...  4.4"
      ]
     },
     "execution_count": 64,
     "metadata": {},
     "output_type": "execute_result"
    }
   ],
   "source": [
    "# df.head(10)"
   ]
  },
  {
   "cell_type": "code",
   "execution_count": null,
   "id": "f54285cd",
   "metadata": {},
   "outputs": [],
   "source": []
  }
 ],
 "metadata": {
  "kernelspec": {
   "display_name": "Python 3 (ipykernel)",
   "language": "python",
   "name": "python3"
  },
  "language_info": {
   "codemirror_mode": {
    "name": "ipython",
    "version": 3
   },
   "file_extension": ".py",
   "mimetype": "text/x-python",
   "name": "python",
   "nbconvert_exporter": "python",
   "pygments_lexer": "ipython3",
   "version": "3.9.12"
  },
  "varInspector": {
   "cols": {
    "lenName": 16,
    "lenType": 16,
    "lenVar": 40
   },
   "kernels_config": {
    "python": {
     "delete_cmd_postfix": "",
     "delete_cmd_prefix": "del ",
     "library": "var_list.py",
     "varRefreshCmd": "print(var_dic_list())"
    },
    "r": {
     "delete_cmd_postfix": ") ",
     "delete_cmd_prefix": "rm(",
     "library": "var_list.r",
     "varRefreshCmd": "cat(var_dic_list()) "
    }
   },
   "types_to_exclude": [
    "module",
    "function",
    "builtin_function_or_method",
    "instance",
    "_Feature"
   ],
   "window_display": false
  }
 },
 "nbformat": 4,
 "nbformat_minor": 5
}
